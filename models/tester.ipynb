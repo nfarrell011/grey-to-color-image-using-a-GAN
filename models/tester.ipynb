{
 "cells": [
  {
   "cell_type": "code",
   "execution_count": 1,
   "metadata": {},
   "outputs": [],
   "source": [
    "import torch\n",
    "from torch import nn, optim\n",
    "import torch.nn.functional as F\n",
    "import numpy as np \n",
    "import pandas as pd\n",
    "import cv2  \n",
    "\n",
    "class Descriminator(nn.Module):\n",
    "    def __init__(self):\n",
    "        super().__init__()\n",
    "        self.conv1 = nn.Conv2d(in_channels = 3, out_channels = 64, kernel_size = 4, stride = 2)\n",
    "        self.conv2 = nn.Conv2d(in_channels = 64, out_channels = 128, kernel_size = 4, stride = 2)\n",
    "        self.conv3 = nn.Conv2d(in_channels = 128, out_channels = 256, kernel_size = 4, stride = 2)\n",
    "        self.conv4 = nn.Conv2d(in_channels = 256, out_channels = 512, kernel_size = 4, stride = 2)\n",
    "        self.conv5 = nn.Conv2d(in_channels = 512, out_channels = 1024, kernel_size = 4, stride = 2)\n",
    "        self.conv6 = nn.Conv2d(in_channels = 1024, out_channels = 1, kernel_size = 4, stride = 1)\n",
    "\n",
    "        self.fc1 = nn.Linear(9, 1)\n",
    "\n",
    "        self.batchnorm64 = nn.BatchNorm2d(64)\n",
    "        self.batchnorm128 = nn.BatchNorm2d(128)\n",
    "        self.batchnorm256 = nn.BatchNorm2d(256)\n",
    "        self.batchnorm512 = nn.BatchNorm2d(512)\n",
    "        self.batchnorm1024 = nn.BatchNorm2d(1024)\n",
    "\n",
    "        self.leaky_relu = nn.LeakyReLU(0.2, True)\n",
    "\n",
    "    def forward(self, x):\n",
    "        x = self.leaky_relu(self.batchnorm64(self.conv1(x)))\n",
    "        x = self.leaky_relu(self.batchnorm128(self.conv2(x)))\n",
    "        x = self.leaky_relu(self.batchnorm256(self.conv3(x)))\n",
    "        x = self.leaky_relu(self.batchnorm512(self.conv4(x)))\n",
    "        x = self.leaky_relu(self.batchnorm1024(self.conv5(x)))\n",
    "        x = self.conv6(x)\n",
    "        print(f\"This is the x after the Conv6: {x}\")\n",
    "        x = torch.flatten(x, 1)\n",
    "        print(f\"X after flatten {x}\")\n",
    "        x = self.fc1(x)\n",
    "        print(f\"X after linear layer: {x}\")\n",
    "        x = torch.sigmoid(x)\n",
    "        print(f\"After Sig: {x}\")\n",
    "\n",
    "        return x"
   ]
  },
  {
   "cell_type": "code",
   "execution_count": 2,
   "metadata": {},
   "outputs": [],
   "source": [
    "img = cv2.imread(\"../data/opentable.png\")"
   ]
  },
  {
   "cell_type": "code",
   "execution_count": 3,
   "metadata": {},
   "outputs": [],
   "source": [
    "img = cv2.resize(img, (256, 256))\n",
    "img = cv2.cvtColor(img, cv2.COLOR_BGR2RGB) / 255.0"
   ]
  },
  {
   "cell_type": "code",
   "execution_count": 4,
   "metadata": {},
   "outputs": [],
   "source": [
    "img = torch.rand(1, 3, 256, 256)"
   ]
  },
  {
   "cell_type": "code",
   "execution_count": 5,
   "metadata": {},
   "outputs": [],
   "source": [
    "model = Descriminator()"
   ]
  },
  {
   "cell_type": "code",
   "execution_count": 6,
   "metadata": {},
   "outputs": [
    {
     "name": "stdout",
     "output_type": "stream",
     "text": [
      "This is the x after the Conv6: tensor([[[[ 0.4091,  0.1564, -0.0125],\n",
      "          [ 0.6356,  0.5547,  0.4886],\n",
      "          [ 0.8545, -0.0589,  0.1652]]]], grad_fn=<ConvolutionBackward0>)\n",
      "X after flatten tensor([[ 0.4091,  0.1564, -0.0125,  0.6356,  0.5547,  0.4886,  0.8545, -0.0589,\n",
      "          0.1652]], grad_fn=<ViewBackward0>)\n",
      "X after linear layer: tensor([[-0.1607]], grad_fn=<AddmmBackward0>)\n",
      "After Sig: tensor([[0.4599]], grad_fn=<SigmoidBackward0>)\n"
     ]
    }
   ],
   "source": [
    "output = model(img)"
   ]
  },
  {
   "cell_type": "code",
   "execution_count": 7,
   "metadata": {},
   "outputs": [
    {
     "data": {
      "text/plain": [
       "torch.Size([1, 1])"
      ]
     },
     "execution_count": 7,
     "metadata": {},
     "output_type": "execute_result"
    }
   ],
   "source": [
    "output.shape "
   ]
  }
 ],
 "metadata": {
  "kernelspec": {
   "display_name": "dl_env",
   "language": "python",
   "name": "python3"
  },
  "language_info": {
   "codemirror_mode": {
    "name": "ipython",
    "version": 3
   },
   "file_extension": ".py",
   "mimetype": "text/x-python",
   "name": "python",
   "nbconvert_exporter": "python",
   "pygments_lexer": "ipython3",
   "version": "3.12.4"
  },
  "orig_nbformat": 4,
  "vscode": {
   "interpreter": {
    "hash": "c1df5de7dcd6dcdadef7fe3c86013ee0233768960d04fd09831356728985397f"
   }
  }
 },
 "nbformat": 4,
 "nbformat_minor": 2
}
