{
 "cells": [
  {
   "cell_type": "code",
   "execution_count": 1,
   "metadata": {},
   "outputs": [],
   "source": [
    "\n",
    "import glob\n",
    "import torch\n",
    "from torch.utils.data import DataLoader\n"
   ]
  },
  {
   "cell_type": "markdown",
   "metadata": {},
   "source": [
    "### Check GPU Status"
   ]
  },
  {
   "cell_type": "code",
   "execution_count": null,
   "metadata": {},
   "outputs": [],
   "source": [
    "if torch.cuda.is_available():\n",
    "    print(\"CUDA is available. Running a test on the GPU.\")\n",
    "    \n",
    "    device = torch.device(\"cuda\")\n",
    "    x = torch.rand(3, 3).to(device)\n",
    "    print(f\"Tensor on GPU: \\n{x}\")\n",
    "\n",
    "    y = x * 2\n",
    "    print(f\"Result of operation on GPU: \\n{y}\")\n",
    "else:\n",
    "    print(\"CUDA is not available. Running on CPU.\")"
   ]
  },
  {
   "attachments": {},
   "cell_type": "markdown",
   "metadata": {},
   "source": [
    "### Read in the Modules"
   ]
  },
  {
   "cell_type": "code",
   "execution_count": 3,
   "metadata": {},
   "outputs": [],
   "source": [
    "from discriminator import Discriminator\n",
    "from generator import UNet\n",
    "from gan_utils import *"
   ]
  },
  {
   "attachments": {},
   "cell_type": "markdown",
   "metadata": {},
   "source": [
    "### Path to Data"
   ]
  },
  {
   "cell_type": "code",
   "execution_count": null,
   "metadata": {},
   "outputs": [],
   "source": [
    "coco_path = \"/Users/mikey/.fastai/data/coco_sample/train_sample\"\n",
    "paths = glob.glob(coco_path + \"/*.jpg\") # Grabbing all the image file names\n",
    "\n",
    "# Call the function with the desired number of images\n",
    "train_paths, val_paths = select_images(paths, 1000)\n",
    "print(f\"Training set: {len(train_paths)} images\")\n",
    "print(f\"Validation set: {len(val_paths)} images\")"
   ]
  },
  {
   "attachments": {},
   "cell_type": "markdown",
   "metadata": {},
   "source": [
    "### Set Up Dataset"
   ]
  },
  {
   "cell_type": "code",
   "execution_count": 5,
   "metadata": {},
   "outputs": [],
   "source": [
    "# image size\n",
    "size = 256\n",
    "train_ds = ColorizationDataset(size, paths = train_paths, split = \"train\")\n",
    "val_ds = ColorizationDataset(size, paths = val_paths, split = \"val\")"
   ]
  },
  {
   "attachments": {},
   "cell_type": "markdown",
   "metadata": {},
   "source": [
    "### Setup Dataloader"
   ]
  },
  {
   "cell_type": "code",
   "execution_count": 6,
   "metadata": {},
   "outputs": [],
   "source": [
    "train_dl = DataLoader(train_ds, batch_size = 4)\n",
    "val_dl = DataLoader(val_ds, batch_size = 4)"
   ]
  },
  {
   "cell_type": "markdown",
   "metadata": {},
   "source": [
    "**Check Tensor Size**"
   ]
  },
  {
   "cell_type": "code",
   "execution_count": null,
   "metadata": {},
   "outputs": [],
   "source": [
    "data = next(iter(train_dl))\n",
    "Ls, abs_ = data['L'], data['ab']\n",
    "print(Ls.shape, abs_.shape)\n",
    "print(len(train_dl), len(val_dl))"
   ]
  },
  {
   "attachments": {},
   "cell_type": "markdown",
   "metadata": {},
   "source": [
    "### Params"
   ]
  },
  {
   "cell_type": "code",
   "execution_count": 8,
   "metadata": {},
   "outputs": [],
   "source": [
    "# Assuming UNet is already defined as per the code above\n",
    "generator = UNet()\n",
    "discriminator = Discriminator()\n",
    "\n",
    "# Use CUDA if available\n",
    "device = torch.device(\"cuda\" if torch.cuda.is_available() else \"cpu\")\n",
    "generator.to(device)\n",
    "discriminator.to(device)\n",
    "\n",
    "# Loss functions\n",
    "adversarial_loss = nn.BCELoss()  \n",
    "l1_loss = nn.L1Loss()\n",
    "l2_loss = nn.MSELoss()\n",
    "perceptual_loos = PerceptualLoss\n",
    "\n",
    "# Optimizers\n",
    "lr = 0.0002\n",
    "beta1 = 0.5\n",
    "beta2 = 0.999\n",
    "lambda_l1 = 100\n",
    "\n",
    "optimizer_G = torch.optim.Adam(generator.parameters(), lr=lr, betas=(beta1, beta2))\n",
    "optimizer_D = torch.optim.Adam(discriminator.parameters(), lr=lr, betas=(beta1, beta2))\n",
    "\n",
    "# training params\n",
    "epochs = 20\n",
    "batch_size = 16\n"
   ]
  },
  {
   "attachments": {},
   "cell_type": "markdown",
   "metadata": {},
   "source": [
    "### Training"
   ]
  },
  {
   "cell_type": "code",
   "execution_count": null,
   "metadata": {},
   "outputs": [],
   "source": [
    "\n",
    "driver = GANDriver(\n",
    "    generator=generator,\n",
    "    discriminator=discriminator,\n",
    "    train_dl=train_dl,\n",
    "    val_dl=val_dl,\n",
    "    optimizer_G=optimizer_G,\n",
    "    optimizer_D=optimizer_D,\n",
    "    adversarial_loss=adversarial_loss,\n",
    "    l1_loss=l1_loss,\n",
    "    lambda_l1=lambda_l1,\n",
    "    device=device,\n",
    "    epochs=epochs\n",
    ")\n",
    "\n",
    "# Run the GAN training\n",
    "driver.run()"
   ]
  },
  {
   "cell_type": "code",
   "execution_count": null,
   "metadata": {},
   "outputs": [],
   "source": []
  }
 ],
 "metadata": {
  "kernelspec": {
   "display_name": "dl_env",
   "language": "python",
   "name": "python3"
  },
  "language_info": {
   "codemirror_mode": {
    "name": "ipython",
    "version": 3
   },
   "file_extension": ".py",
   "mimetype": "text/x-python",
   "name": "python",
   "nbconvert_exporter": "python",
   "pygments_lexer": "ipython3",
   "version": "3.9.19"
  },
  "orig_nbformat": 4,
  "vscode": {
   "interpreter": {
    "hash": "c1df5de7dcd6dcdadef7fe3c86013ee0233768960d04fd09831356728985397f"
   }
  }
 },
 "nbformat": 4,
 "nbformat_minor": 2
}
